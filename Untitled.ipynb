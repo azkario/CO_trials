{
 "cells": [
  {
   "cell_type": "code",
   "execution_count": 1,
   "metadata": {},
   "outputs": [],
   "source": [
    "from pulp import *\n",
    "import numpy as np"
   ]
  },
  {
   "cell_type": "code",
   "execution_count": 2,
   "metadata": {},
   "outputs": [],
   "source": [
    "# rated power per-person\n",
    "person = ['p1', 'p2', 'p3','p4','p5']\n",
    "\n",
    "# P_i for i=1,...,n are (known) numeric values\n",
    "costs = {\n",
    "    'p1':32.8,\n",
    "    'p2':44.6,\n",
    "    'p3':34.8,\n",
    "    'p4':90,\n",
    "    'p5':22.5,\n",
    "}"
   ]
  },
  {
   "cell_type": "code",
   "execution_count": 3,
   "metadata": {},
   "outputs": [
    {
     "data": {
      "text/plain": [
       "{'p1': state_p1,\n",
       " 'p2': state_p2,\n",
       " 'p3': state_p3,\n",
       " 'p4': state_p4,\n",
       " 'p5': state_p5}"
      ]
     },
     "execution_count": 3,
     "metadata": {},
     "output_type": "execute_result"
    }
   ],
   "source": [
    "# a_i for i=1,...,n are binary states to find\n",
    "person_state = LpVariable.dicts(\"state\",person,0,1,cat=\"Binary\")\n",
    "person_state"
   ]
  },
  {
   "cell_type": "code",
   "execution_count": 4,
   "metadata": {},
   "outputs": [
    {
     "data": {
      "text/plain": [
       "array([0., 0., 1., 0., 1.], dtype=float32)"
      ]
     },
     "execution_count": 4,
     "metadata": {},
     "output_type": "execute_result"
    }
   ],
   "source": [
    "## It works, but I cannot put absolute function abs() in the objective function, as stated in the paper\n",
    "\n",
    "aggr_read=58\n",
    "\n",
    "\n",
    "summed=lpSum([costs[i]*person_state[i] for i in person])\n",
    "\n",
    "prob = LpProblem(\"CombinatorialOptimization\", LpMinimize)\n",
    "\n",
    "prob += aggr_read - summed #objective function\n",
    "\n",
    "prob += summed <= aggr_read # constraint\n",
    "\n",
    "prob.solve()\n",
    "\n",
    "myout=np.asarray([prob.variables()[i].value() for i in range(len(person))],dtype=np.float32)\n",
    "myout"
   ]
  },
  {
   "cell_type": "code",
   "execution_count": 5,
   "metadata": {},
   "outputs": [
    {
     "data": {
      "text/plain": [
       "array([0.        , 0.        , 0.        , 0.39444444, 1.        ],\n",
       "      dtype=float32)"
      ]
     },
     "execution_count": 5,
     "metadata": {},
     "output_type": "execute_result"
    }
   ],
   "source": [
    "##  another trial, MILP. \n",
    "# According to https://optimization.mccormick.northwestern.edu/index.php/Optimization_with_absolute_values, it is only solvable as MILP, not standard LP model\n",
    "\n",
    "\n",
    "aggr_read=58\n",
    "\n",
    "\n",
    "fx=lpSum([costs[i]*person_state[i] for i in person])\n",
    "\n",
    "prob = LpProblem(\"CombinatorialOptimization\", LpMinimize)\n",
    "gap=aggr_read - fx\n",
    "prob += aggr_read-fx #objective function\n",
    "\n",
    "\n",
    "prob += fx - aggr_read <= 0 # constraints\n",
    "prob += aggr_read - fx <=0\n",
    "#     print(prob)\n",
    "prob.solve()\n",
    "\n",
    "myout=np.asarray([prob.variables()[i].value() for i in range(len(person))],dtype=np.float32)\n",
    "myout"
   ]
  },
  {
   "cell_type": "code",
   "execution_count": 6,
   "metadata": {},
   "outputs": [],
   "source": [
    "#the question is: can I implement combinatorial optimization min |P_t - a_i * P_i| as an LP problem>"
   ]
  },
  {
   "cell_type": "code",
   "execution_count": null,
   "metadata": {},
   "outputs": [],
   "source": []
  }
 ],
 "metadata": {
  "kernelspec": {
   "display_name": "Python 3",
   "language": "python",
   "name": "python3"
  },
  "language_info": {
   "codemirror_mode": {
    "name": "ipython",
    "version": 3
   },
   "file_extension": ".py",
   "mimetype": "text/x-python",
   "name": "python",
   "nbconvert_exporter": "python",
   "pygments_lexer": "ipython3",
   "version": "3.5.0"
  }
 },
 "nbformat": 4,
 "nbformat_minor": 2
}
